{
 "cells": [
  {
   "cell_type": "code",
   "execution_count": 1,
   "metadata": {
    "collapsed": false
   },
   "outputs": [],
   "source": [
    "from pycocotools.coco import COCO\n",
    "import numpy\n",
    "import random\n",
    "import csv\n",
    "import json"
   ]
  },
  {
   "cell_type": "code",
   "execution_count": 2,
   "metadata": {
    "collapsed": false
   },
   "outputs": [],
   "source": [
    "job = [ json.loads(line) for line in open(\"job_886896.json\")  ]"
   ]
  },
  {
   "cell_type": "code",
   "execution_count": 3,
   "metadata": {
    "collapsed": false
   },
   "outputs": [
    {
     "name": "stdout",
     "output_type": "stream",
     "text": [
      "loading annotations into memory...\n",
      "Done (t=1.02s)\n",
      "creating index...\n",
      "index created!\n",
      "loading annotations into memory...\n",
      "Done (t=8.15s)\n",
      "creating index...\n",
      "index created!\n"
     ]
    }
   ],
   "source": [
    "dataDir='/home/gchrupala/repos/coco'\n",
    "dataType='val2014'\n",
    "cap = COCO('%s/annotations/captions_%s.json'%(dataDir,dataType))\n",
    "coco = COCO('%s/annotations/instances_%s.json'%(dataDir,dataType))"
   ]
  },
  {
   "cell_type": "code",
   "execution_count": 4,
   "metadata": {
    "collapsed": false
   },
   "outputs": [],
   "source": [
    "descriptions = {}\n",
    "for img in coco.imgs.values():\n",
    "    for desc in cap.loadAnns(cap.getAnnIds(img['id'])):\n",
    "        if desc['caption'] in descriptions:\n",
    "            descriptions[desc['caption']].append({'id': desc['id'], 'image_id': desc['image_id']})\n",
    "        else:\n",
    "            descriptions[desc['caption']] = [{'id': desc['id'], 'image_id': desc['image_id']}]\n",
    "            "
   ]
  },
  {
   "cell_type": "code",
   "execution_count": 5,
   "metadata": {
    "collapsed": false
   },
   "outputs": [],
   "source": [
    "def indexes(xs,x):\n",
    "    return [i for i,z in enumerate(xs) if x == z]\n",
    "\n",
    "def find_metadata(j, records):\n",
    "    \"\"\"Find coco metadata of row.\n",
    "    \"\"\"\n",
    "    desc = j['data']['desc']\n",
    "    urls = [j['data']['url_1'], j['data']['url_2'], j['data']['url_3'], j['data']['url_4']]\n",
    "    ids = [ int(url.split(\"/\")[-1]) for url in urls ]\n",
    "    matches = [ r['image_id'] for r in records[desc] ]\n",
    "    image_id, resp = [ (m,ixs[0]+1) for (m,ixs) in [ (match,indexes(ids,match)) for match in matches ] if len(ixs)==1][0]\n",
    "    return {'image_id':image_id, \n",
    "            'id': [ r['id'] for r in records[desc] if r['image_id'] == image_id ][0],\n",
    "            'response': resp,\n",
    "            'candidates': ids\n",
    "           }\n"
   ]
  },
  {
   "cell_type": "code",
   "execution_count": 6,
   "metadata": {
    "collapsed": false
   },
   "outputs": [],
   "source": [
    "meta = [ find_metadata(row, descriptions) for row in job ]"
   ]
  },
  {
   "cell_type": "code",
   "execution_count": 7,
   "metadata": {
    "collapsed": false
   },
   "outputs": [],
   "source": [
    "def merge(a,b):\n",
    "    result = {}\n",
    "    result.update(a)\n",
    "    result.update(b)\n",
    "    return result\n",
    "\n",
    "merged = [ merge(j, {u'meta':m}) for (j,m) in zip(job,meta) ]"
   ]
  },
  {
   "cell_type": "code",
   "execution_count": 8,
   "metadata": {
    "collapsed": false
   },
   "outputs": [],
   "source": [
    "with open(\"job_886896_meta.json\",\"w\") as f:\n",
    "    for record in merged:\n",
    "        f.write(json.dumps(record))\n",
    "        f.write(\"\\n\")"
   ]
  },
  {
   "cell_type": "code",
   "execution_count": 9,
   "metadata": {
    "collapsed": false
   },
   "outputs": [
    {
     "data": {
      "text/plain": [
       "40504"
      ]
     },
     "execution_count": 9,
     "metadata": {},
     "output_type": "execute_result"
    }
   ],
   "source": [
    "len(coco.imgs.values())"
   ]
  },
  {
   "cell_type": "code",
   "execution_count": 10,
   "metadata": {
    "collapsed": true
   },
   "outputs": [],
   "source": [
    "local=json.load(open(\"/home/gchrupala/repos/reimaginet/data/coco/dataset.json\"))"
   ]
  },
  {
   "cell_type": "code",
   "execution_count": 14,
   "metadata": {
    "collapsed": false
   },
   "outputs": [
    {
     "data": {
      "text/plain": [
       "{u'cocoid': 391895,\n",
       " u'filename': u'COCO_val2014_000000391895.jpg',\n",
       " u'filepath': u'val2014',\n",
       " u'imgid': 0,\n",
       " u'sentences': [{u'imgid': 0,\n",
       "   u'raw': u'A man with a red helmet on a small moped on a dirt road. ',\n",
       "   u'sentid': 770337,\n",
       "   u'tokens': [u'a',\n",
       "    u'man',\n",
       "    u'with',\n",
       "    u'a',\n",
       "    u'red',\n",
       "    u'helmet',\n",
       "    u'on',\n",
       "    u'a',\n",
       "    u'small',\n",
       "    u'moped',\n",
       "    u'on',\n",
       "    u'a',\n",
       "    u'dirt',\n",
       "    u'road']},\n",
       "  {u'imgid': 0,\n",
       "   u'raw': u'Man riding a motor bike on a dirt road on the countryside.',\n",
       "   u'sentid': 771687,\n",
       "   u'tokens': [u'man',\n",
       "    u'riding',\n",
       "    u'a',\n",
       "    u'motor',\n",
       "    u'bike',\n",
       "    u'on',\n",
       "    u'a',\n",
       "    u'dirt',\n",
       "    u'road',\n",
       "    u'on',\n",
       "    u'the',\n",
       "    u'countryside']},\n",
       "  {u'imgid': 0,\n",
       "   u'raw': u'A man riding on the back of a motorcycle.',\n",
       "   u'sentid': 772707,\n",
       "   u'tokens': [u'a',\n",
       "    u'man',\n",
       "    u'riding',\n",
       "    u'on',\n",
       "    u'the',\n",
       "    u'back',\n",
       "    u'of',\n",
       "    u'a',\n",
       "    u'motorcycle']},\n",
       "  {u'imgid': 0,\n",
       "   u'raw': u'A dirt path with a young person on a motor bike rests to the foreground of a verdant area with a bridge and a background of cloud-wreathed mountains. ',\n",
       "   u'sentid': 776154,\n",
       "   u'tokens': [u'a',\n",
       "    u'dirt',\n",
       "    u'path',\n",
       "    u'with',\n",
       "    u'a',\n",
       "    u'young',\n",
       "    u'person',\n",
       "    u'on',\n",
       "    u'a',\n",
       "    u'motor',\n",
       "    u'bike',\n",
       "    u'rests',\n",
       "    u'to',\n",
       "    u'the',\n",
       "    u'foreground',\n",
       "    u'of',\n",
       "    u'a',\n",
       "    u'verdant',\n",
       "    u'area',\n",
       "    u'with',\n",
       "    u'a',\n",
       "    u'bridge',\n",
       "    u'and',\n",
       "    u'a',\n",
       "    u'background',\n",
       "    u'of',\n",
       "    u'cloud',\n",
       "    u'wreathed',\n",
       "    u'mountains']},\n",
       "  {u'imgid': 0,\n",
       "   u'raw': u'A man in a red shirt and a red hat is on a motorcycle on a hill side.',\n",
       "   u'sentid': 781998,\n",
       "   u'tokens': [u'a',\n",
       "    u'man',\n",
       "    u'in',\n",
       "    u'a',\n",
       "    u'red',\n",
       "    u'shirt',\n",
       "    u'and',\n",
       "    u'a',\n",
       "    u'red',\n",
       "    u'hat',\n",
       "    u'is',\n",
       "    u'on',\n",
       "    u'a',\n",
       "    u'motorcycle',\n",
       "    u'on',\n",
       "    u'a',\n",
       "    u'hill',\n",
       "    u'side']}],\n",
       " u'sentids': [770337, 771687, 772707, 776154, 781998],\n",
       " u'split': u'test'}"
      ]
     },
     "execution_count": 14,
     "metadata": {},
     "output_type": "execute_result"
    }
   ],
   "source": [
    "local['images'][0]"
   ]
  },
  {
   "cell_type": "code",
   "execution_count": null,
   "metadata": {
    "collapsed": true
   },
   "outputs": [],
   "source": []
  }
 ],
 "metadata": {
  "kernelspec": {
   "display_name": "Python 2",
   "language": "python",
   "name": "python2"
  },
  "language_info": {
   "codemirror_mode": {
    "name": "ipython",
    "version": 2
   },
   "file_extension": ".py",
   "mimetype": "text/x-python",
   "name": "python",
   "nbconvert_exporter": "python",
   "pygments_lexer": "ipython2",
   "version": "2.7.9"
  }
 },
 "nbformat": 4,
 "nbformat_minor": 0
}
