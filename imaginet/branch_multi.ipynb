{
 "cells": [
  {
   "cell_type": "code",
   "execution_count": 28,
   "metadata": {
    "collapsed": false
   },
   "outputs": [],
   "source": [
    "import imaginet.task as task\n",
    "task = reload(task)\n",
    "import funktional.layer as layer\n",
    "from funktional.layer import params\n",
    "import funktional.util as util\n",
    "from funktional.util import autoassign\n",
    "import theano.tensor as T\n",
    "import random\n",
    "import numpy"
   ]
  },
  {
   "cell_type": "code",
   "execution_count": 2,
   "metadata": {
    "collapsed": true
   },
   "outputs": [],
   "source": [
    "from imaginet.simple_data import *\n",
    "import imaginet.data_provider as dp"
   ]
  },
  {
   "cell_type": "code",
   "execution_count": 3,
   "metadata": {
    "collapsed": false
   },
   "outputs": [
    {
     "name": "stderr",
     "output_type": "stream",
     "text": [
      "Could not read file /home/gchrupala/repos/reimaginet/data/flickr8k/dataset.ipa.jsonl.gz: IPA transcription not available\n"
     ]
    }
   ],
   "source": [
    "seed = 123\n",
    "if seed is not None:\n",
    "    random.seed(seed)\n",
    "    numpy.random.seed(seed)\n",
    "prov = dp.getDataProvider('flickr8k', root='/home/gchrupala/repos/reimaginet')\n",
    "data_c = SimpleData(prov, tokenize=characters, min_df=1, scale=True, batch_size=64, shuffle=True, limit=None)\n",
    "data_w = SimpleData(prov, tokenize=words, min_df=10, scale=True, batch_size=64, shuffle=True, limit=None)"
   ]
  },
  {
   "cell_type": "code",
   "execution_count": null,
   "metadata": {
    "collapsed": false
   },
   "outputs": [],
   "source": [
    "import imaginet.corep\n",
    "reload(imaginet.corep)"
   ]
  },
  {
   "cell_type": "code",
   "execution_count": null,
   "metadata": {
    "collapsed": false
   },
   "outputs": [],
   "source": [
    "corep = imaginet.corep.Corep(data_c, data_w, 128, 512, 512, 3, 1, 4096)"
   ]
  },
  {
   "cell_type": "code",
   "execution_count": null,
   "metadata": {
    "collapsed": false
   },
   "outputs": [],
   "source": [
    "from collections import Counter\n",
    "import sys\n",
    "def valid_loss(task, data):\n",
    "        result = []\n",
    "        for item in data.iter_valid_batches():\n",
    "            inp, target_v, _, _ = item\n",
    "            result.append(task.loss_test(inp, target_v))\n",
    "        return result\n",
    "\n",
    "things = [(\"word\", (corep.data_w, corep.Task_w, Counter())),\n",
    "          (\"char\", (corep.data_c, corep.Task_c, Counter())) ]\n",
    "for epoch in range(1,3):\n",
    "    for name, thing in things:\n",
    "        data, task, costs = thing\n",
    "        for _j, item in enumerate(data_c.iter_train_batches()):\n",
    "                j = _j + 1\n",
    "                inp, target_v, _, _ = item\n",
    "                cost = task.train(inp, target_v)\n",
    "                costs.update(Counter({'cost':cost, 'N':1}))\n",
    "                if j % 10 == 0:\n",
    "                    print epoch, name, j, j*data.batch_size, \"train\", \"\".join([str(costs['cost']/costs['N'])])\n",
    "                    sys.stdout.flush()"
   ]
  },
  {
   "cell_type": "code",
   "execution_count": null,
   "metadata": {
    "collapsed": false
   },
   "outputs": [],
   "source": [
    "things[0][1][2]"
   ]
  },
  {
   "cell_type": "code",
   "execution_count": null,
   "metadata": {
    "collapsed": false
   },
   "outputs": [],
   "source": [
    "things[1][1][2]"
   ]
  },
  {
   "cell_type": "code",
   "execution_count": null,
   "metadata": {
    "collapsed": false
   },
   "outputs": [],
   "source": [
    "corep.save(\"/tmp/corep.zip\")"
   ]
  },
  {
   "cell_type": "code",
   "execution_count": 54,
   "metadata": {
    "collapsed": false
   },
   "outputs": [
    {
     "data": {
      "text/plain": [
       "<module 'imaginet.defn.visual' from '/exp2/gchrupala/repos/reimaginet/imaginet/defn/visual.py'>"
      ]
     },
     "execution_count": 54,
     "metadata": {},
     "output_type": "execute_result"
    }
   ],
   "source": [
    "import imaginet.defn.visual\n",
    "reload(imaginet.defn.visual)"
   ]
  },
  {
   "cell_type": "code",
   "execution_count": 55,
   "metadata": {
    "collapsed": false
   },
   "outputs": [],
   "source": [
    "config = dict(size_embed=128, size=256)\n",
    "model = imaginet.defn.visual.VisualModel({'scaler':data_c.scaler, 'batcher':data_c.batcher}, config)"
   ]
  },
  {
   "cell_type": "code",
   "execution_count": 56,
   "metadata": {
    "collapsed": false
   },
   "outputs": [],
   "source": [
    "model.save(\"/tmp/fufi.zip\")"
   ]
  },
  {
   "cell_type": "code",
   "execution_count": 57,
   "metadata": {
    "collapsed": false
   },
   "outputs": [],
   "source": [
    "delmo = imaginet.defn.visual.load(\"/tmp/fufi.zip\")"
   ]
  },
  {
   "cell_type": "code",
   "execution_count": null,
   "metadata": {
    "collapsed": false
   },
   "outputs": [],
   "source": [
    "from collections import Counter\n",
    "import sys\n",
    "for epoch in range(1,3):\n",
    "    costs = Counter()\n",
    "    name = \"phoneme\"\n",
    "    data = model.dataset\n",
    "    task = model.Visual\n",
    "    for _j, item in enumerate(data_c.iter_train_batches()):\n",
    "                j = _j + 1\n",
    "                inp, target_v, _, _ = item\n",
    "                cost = task.train(inp, target_v)\n",
    "                costs.update(Counter({'cost':cost, 'N':1}))\n",
    "                if j % 10 == 0:\n",
    "                    print epoch, name, j, j*data.batch_size, \"train\", \"\".join([str(costs['cost']/costs['N'])])\n",
    "                    sys.stdout.flush()"
   ]
  },
  {
   "cell_type": "code",
   "execution_count": 62,
   "metadata": {
    "collapsed": false
   },
   "outputs": [
    {
     "name": "stdout",
     "output_type": "stream",
     "text": [
      "1.0\n",
      "1.0\n",
      "1.0\n",
      "1.0\n",
      "1.0\n",
      "1.0\n",
      "1.0\n",
      "1.0\n",
      "1.0\n",
      "1.0\n",
      "1.0\n",
      "1.0\n",
      "1.0\n"
     ]
    }
   ],
   "source": [
    "for i in range(len(model.params())):\n",
    "    print numpy.mean(model.params()[i].get_value() == delmo.params()[i].get_value())"
   ]
  },
  {
   "cell_type": "code",
   "execution_count": null,
   "metadata": {
    "collapsed": true
   },
   "outputs": [],
   "source": []
  }
 ],
 "metadata": {
  "kernelspec": {
   "display_name": "Python 2",
   "language": "python",
   "name": "python2"
  },
  "language_info": {
   "codemirror_mode": {
    "name": "ipython",
    "version": 2
   },
   "file_extension": ".py",
   "mimetype": "text/x-python",
   "name": "python",
   "nbconvert_exporter": "python",
   "pygments_lexer": "ipython2",
   "version": "2.7.9"
  }
 },
 "nbformat": 4,
 "nbformat_minor": 0
}
